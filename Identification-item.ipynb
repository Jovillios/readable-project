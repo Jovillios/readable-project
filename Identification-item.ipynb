{
 "cells": [
  {
   "cell_type": "code",
   "execution_count": 1,
   "metadata": {},
   "outputs": [],
   "source": [
    "import os\n",
    "import cv2\n",
    "import numpy as np\n",
    "import matplotlib.pyplot as plt\n",
    "import math\n",
    "\n",
    "\n",
    "path = \"C:/Users/user/Documents/Code/Machine-Learning/img\"\n",
    "dataset = \"C:/Users/user/Documents/Code/Machine-Learning/dataset\""
   ]
  },
  {
   "cell_type": "code",
   "execution_count": 2,
   "metadata": {},
   "outputs": [],
   "source": [
    "categories = [\"a\",\"b\",\"c\",\"d\",\"e\",\"f\",\"g\",\"h\",\"i\",\"j\",\"k\",\"l\",\"m\",\"n\",\"o\",\"p\",\"q\",\"r\",\"s\",\"t\",\"u\",\"v\",\"w\",\"x\",\"y\",\"z\"]"
   ]
  },
  {
   "cell_type": "code",
   "execution_count": 3,
   "metadata": {
    "scrolled": true
   },
   "outputs": [
    {
     "data": {
      "image/png": "[encoded data removed]",
      "text/plain": [
       "<Figure size 432x288 with 1 Axes>"
      ]
     },
     "metadata": {
      "needs_background": "light"
     },
     "output_type": "display_data"
    }
   ],
   "source": [
    "im = 0\n",
    "\n",
    "for img in os.listdir(path):\n",
    "    img_array = cv2.imread(os.path.join(path,img), 0)\n",
    "    kernel = np.ones((2,2),np.uint8)\n",
    "    erosion = cv2.erode(img_array,kernel,iterations = 10)\n",
    "    ret, thresh = cv2.threshold(erosion, 127, 255, 0)\n",
    "    image, contours, hierarchy = cv2.findContours(thresh, cv2.RETR_TREE,cv2.CHAIN_APPROX_SIMPLE)\n",
    "    \n",
    "    letterNb = len(categories) - 1\n",
    "    previousX = 0\n",
    "    previousY = 0\n",
    "    \n",
    "    im = im + 1\n",
    "    \n",
    "    for i in range(len(contours)):\n",
    "\n",
    "        cnt = contours[i]\n",
    "        x,y,w,h = cv2.boundingRect(cnt)\n",
    "        img_crop = img_array[y:y+h,x:x+w]\n",
    "        if( w*h>= 400 and h <= 70 and w <= 50) :\n",
    "            #if abs(previousX - x) > 25*w :      \n",
    "            #    letterNb = letterNb - 1\n",
    "            #        \n",
    "            #    if(letterNb < 0):\n",
    "            #        letterNb = 0\n",
    "            #    elif letterNb > 26:\n",
    "            #        letterNb = 25\n",
    "            # pathToSave = os.path.join(dataset,categories[letterNb])\n",
    "            cv2.imwrite(\"%s-letter%s.png\" % (im,i),img_crop)\n",
    "            #previousX = x\n",
    "            #previousY = y\n",
    "        img = cv2.rectangle(img_array, (x,y), (x+w,y+h), (255,255,255, 2))\n",
    "\n",
    "    \n",
    "    cnt = contours[0]\n",
    "    plt.imshow(img_array, cmap=\"gray\")\n",
    "    plt.show()"
   ]
  },
  {
   "cell_type": "code",
   "execution_count": 4,
   "metadata": {},
   "outputs": [
    {
     "ename": "AttributeError",
     "evalue": "'numpy.ndarray' object has no attribute 'title'",
     "output_type": "error",
     "traceback": [
      "\u001b[1;31m---------------------------------------------------------------------------\u001b[0m",
      "\u001b[1;31mAttributeError\u001b[0m                            Traceback (most recent call last)",
      "\u001b[1;32m<ipython-input-4-a434da858176>\u001b[0m in \u001b[0;36m<module>\u001b[1;34m\u001b[0m\n\u001b[1;32m----> 1\u001b[1;33m \u001b[0mstr\u001b[0m\u001b[1;33m(\u001b[0m\u001b[0mimg\u001b[0m\u001b[1;33m.\u001b[0m\u001b[0mtitle\u001b[0m\u001b[1;33m)\u001b[0m\u001b[1;33m\u001b[0m\u001b[1;33m\u001b[0m\u001b[0m\n\u001b[0m",
      "\u001b[1;31mAttributeError\u001b[0m: 'numpy.ndarray' object has no attribute 'title'"
     ]
    }
   ],
   "source": [
    "str(img.title)"
   ]
  }
 ],
 "metadata": {
  "kernelspec": {
   "display_name": "Python 3.6 (tensorflow)",
   "language": "python",
   "name": "tensorflow"
  },
  "language_info": {
   "codemirror_mode": {
    "name": "ipython",
    "version": 3
   },
   "file_extension": ".py",
   "mimetype": "text/x-python",
   "name": "python",
   "nbconvert_exporter": "python",
   "pygments_lexer": "ipython3",
   "version": "3.6.8"
  }
 },
 "nbformat": 4,
 "nbformat_minor": 2
}
