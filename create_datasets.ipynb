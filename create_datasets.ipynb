{
 "cells": [
  {
   "cell_type": "code",
   "execution_count": 32,
   "metadata": {},
   "outputs": [],
   "source": [
    "import cv2\n",
    "import numpy as np\n",
    "import matplotlib.pyplot as plt\n",
    "import os\n",
    "\n",
    "pathIMG = \"img\"\n",
    "pathDataset = \"my_training_dataset\""
   ]
  },
  {
   "cell_type": "code",
   "execution_count": 36,
   "metadata": {},
   "outputs": [],
   "source": [
    "indexIMG = 0\n",
    "\n",
    "for img in os.listdir(pathIMG):\n",
    "    \n",
    "    # Read the image\n",
    "    img_array = cv2.imread(os.path.join(pathIMG, img), 0)\n",
    "    \n",
    "    # Transform the image\n",
    "    ret, threshold = cv2.threshold(img_array, 80, 255, cv2.THRESH_BINARY)\n",
    "    kernel = np.ones((2,2),np.uint8)\n",
    "    erosion = cv2.erode(threshold,kernel,iterations = 10)\n",
    "    \n",
    "    # Find the letters\n",
    "    image, contours, hierarchy = cv2.findContours(erosion, cv2.RETR_TREE,cv2.CHAIN_APPROX_SIMPLE)\n",
    "    \n",
    "    \n",
    "    for i in range(len(contours)):\n",
    "        \n",
    "            # Separate the letters\n",
    "            cnt = contours[i]\n",
    "            x,y,w,h = cv2.boundingRect(cnt)\n",
    "            img_crop = threshold[y:y+h,x:x+w]\n",
    "                \n",
    "            cv2.imwrite(os.path.join(pathDataset, \"img%s_letter%s.png\" %(indexIMG ,i)), img_crop)\n",
    "            \n",
    "    indexIMG += 1\n",
    "            "
   ]
  },
  {
   "cell_type": "code",
   "execution_count": null,
   "metadata": {},
   "outputs": [],
   "source": []
  },
  {
   "cell_type": "code",
   "execution_count": null,
   "metadata": {},
   "outputs": [],
   "source": []
  }
 ],
 "metadata": {
  "kernelspec": {
   "display_name": "Python 3.6 (tensorflow)",
   "language": "python",
   "name": "tensorflow"
  },
  "language_info": {
   "codemirror_mode": {
    "name": "ipython",
    "version": 3
   },
   "file_extension": ".py",
   "mimetype": "text/x-python",
   "name": "python",
   "nbconvert_exporter": "python",
   "pygments_lexer": "ipython3",
   "version": "3.6.8"
  }
 },
 "nbformat": 4,
 "nbformat_minor": 2
}
