{
 "cells": [
  {
   "cell_type": "code",
   "execution_count": 47,
   "metadata": {},
   "outputs": [],
   "source": [
    "import cv2\n",
    "import tensorflow as tf\n",
    "import matplotlib.pyplot as plt\n",
    "\n",
    "CATEGORIES = [\"a\",\"b\",\"c\",\"d\",\"e\",\"f\",\"g\",\"h\",\"i\",\"j\",\"k\",\"l\",\"m\",\"n\",\"o\",\"p\",\"q\",\"r\",\"s\",\"t\",\"u\",\"v\",\"w\",\"x\",\"y\",\"z\"]"
   ]
  },
  {
   "cell_type": "code",
   "execution_count": 48,
   "metadata": {},
   "outputs": [],
   "source": [
    "import pickle\n",
    "\n",
    "X_test = pickle.load(open(\"X_test.pickle\",\"rb\"))\n",
    "Y_test = pickle.load(open(\"Y_test.pickle\",\"rb\"))\n",
    "\n",
    "X_test = X_test/255.0"
   ]
  },
  {
   "cell_type": "code",
   "execution_count": 53,
   "metadata": {},
   "outputs": [],
   "source": [
    "model = tf.keras.models.load_model(\"readable-model.model\")"
   ]
  },
  {
   "cell_type": "code",
   "execution_count": 54,
   "metadata": {},
   "outputs": [],
   "source": [
    "correct = 0\n",
    "incorrect = 0\n",
    "\n",
    "prediction = model.predict(X_test)"
   ]
  },
  {
   "cell_type": "code",
   "execution_count": 55,
   "metadata": {
    "scrolled": false
   },
   "outputs": [
    {
     "name": "stdout",
     "output_type": "stream",
     "text": [
      "b e\n",
      "y g\n",
      "g y\n",
      "r p\n",
      "a z\n",
      "y j\n",
      "l i\n",
      "z e\n",
      "l i\n",
      "b c\n",
      "s i\n",
      "s l\n",
      "e z\n",
      "z j\n",
      "e z\n",
      "a e\n",
      "g q\n",
      "x f\n",
      "g y\n",
      "q y\n",
      "b e\n",
      "e z\n",
      "s j\n",
      "b e\n",
      "g y\n",
      "e z\n",
      "b c\n",
      "a e\n",
      "s i\n",
      "b e\n",
      "s l\n",
      "g y\n",
      "r f\n",
      "t e\n",
      "f w\n",
      "b c\n",
      "b e\n",
      "g y\n",
      "u b\n",
      "b e\n",
      "l i\n",
      "z j\n",
      "e o\n",
      "s j\n",
      "e z\n",
      "l i\n",
      "x v\n",
      "b e\n",
      "b e\n",
      "x f\n",
      "s i\n",
      "t z\n"
     ]
    }
   ],
   "source": [
    "import numpy as np\n",
    "i= 0\n",
    "for label in Y_test:\n",
    "    predict = np.argmax(prediction[i])\n",
    "    if label == predict:\n",
    "        correct += 1\n",
    "    else:\n",
    "        incorrect +=1\n",
    "        print(CATEGORIES[label], CATEGORIES[np.argmax(prediction[i])])\n",
    "    i+=1"
   ]
  },
  {
   "cell_type": "code",
   "execution_count": 56,
   "metadata": {},
   "outputs": [
    {
     "name": "stdout",
     "output_type": "stream",
     "text": [
      "239\n",
      "52\n",
      "0.8213058419243986\n"
     ]
    }
   ],
   "source": [
    "print(correct)\n",
    "print(incorrect)\n",
    "print(correct/(correct+incorrect))"
   ]
  },
  {
   "cell_type": "code",
   "execution_count": null,
   "metadata": {},
   "outputs": [],
   "source": []
  },
  {
   "cell_type": "code",
   "execution_count": null,
   "metadata": {},
   "outputs": [],
   "source": []
  }
 ],
 "metadata": {
  "kernelspec": {
   "display_name": "Python 3.6 (tensorflow)",
   "language": "python",
   "name": "tensorflow"
  },
  "language_info": {
   "codemirror_mode": {
    "name": "ipython",
    "version": 3
   },
   "file_extension": ".py",
   "mimetype": "text/x-python",
   "name": "python",
   "nbconvert_exporter": "python",
   "pygments_lexer": "ipython3",
   "version": "3.6.8"
  }
 },
 "nbformat": 4,
 "nbformat_minor": 2
}
