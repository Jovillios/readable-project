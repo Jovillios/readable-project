{
 "cells": [
  {
   "cell_type": "code",
   "execution_count": 1,
   "metadata": {},
   "outputs": [],
   "source": [
    "import tensorflow as tf\n",
    "import numpy as np\n",
    "import os\n",
    "import cv2\n",
    "import random\n",
    "\n",
    "pathTestDataset = \"C:/Users/user/Documents/Code/Machine-Learning/my_test_data\"\n",
    "\n",
    "CATEGORIES = [\"a\",\"b\",\"c\",\"d\",\"e\",\"f\",\"g\",\"h\",\"i\",\"j\",\"k\",\"l\",\"m\",\"n\",\"o\",\"p\",\"q\",\"r\",\"s\",\"t\",\"u\",\"v\",\"w\",\"x\",\"y\",\"z\"]\n",
    "\n",
    "IMSIZE = 50\n",
    "\n",
    "test_data = []"
   ]
  },
  {
   "cell_type": "code",
   "execution_count": 2,
   "metadata": {},
   "outputs": [],
   "source": [
    "def create_test_data():\n",
    "    for category in CATEGORIES:\n",
    "        path = os.path.join(pathTestDataset, category)\n",
    "        class_num = CATEGORIES.index(category)\n",
    "        for im in os.listdir(path):\n",
    "            img_array = cv2.imread(os.path.join(path, im), cv2.IMREAD_GRAYSCALE)\n",
    "            img_array = cv2.resize(img_array, (IMSIZE, IMSIZE))\n",
    "            test_data.append([img_array, class_num])            "
   ]
  },
  {
   "cell_type": "code",
   "execution_count": 3,
   "metadata": {},
   "outputs": [],
   "source": [
    "create_test_data()"
   ]
  },
  {
   "cell_type": "code",
   "execution_count": 4,
   "metadata": {},
   "outputs": [],
   "source": [
    "random.shuffle(test_data)"
   ]
  },
  {
   "cell_type": "code",
   "execution_count": 6,
   "metadata": {},
   "outputs": [],
   "source": [
    "X_test = []\n",
    "Y_test = []\n",
    "\n",
    "for feature, label in test_data:\n",
    "    X_test.append(feature)\n",
    "    Y_test.append(label)  \n",
    "\n",
    "X_test = np.array(X_test).reshape(-1, IMSIZE, IMSIZE, 1)\n",
    "\n",
    "X_test = X_test / 255.0"
   ]
  },
  {
   "cell_type": "code",
   "execution_count": 7,
   "metadata": {},
   "outputs": [],
   "source": [
    "model = tf.keras.models.load_model(\"readable-model.model\")"
   ]
  },
  {
   "cell_type": "code",
   "execution_count": 8,
   "metadata": {},
   "outputs": [
    {
     "name": "stdout",
     "output_type": "stream",
     "text": [
      "s l\n",
      "a e\n",
      "u o\n",
      "h b\n",
      "x f\n",
      "y g\n",
      "x k\n",
      "i j\n",
      "t l\n",
      "a c\n",
      "r p\n",
      "s j\n",
      "s j\n",
      "f w\n",
      "j t\n",
      "p f\n",
      "x k\n",
      "r p\n",
      "f p\n",
      "x k\n",
      "r p\n",
      "s l\n",
      "y j\n",
      "r p\n",
      "g q\n"
     ]
    }
   ],
   "source": [
    "correct = 0\n",
    "incorrect = 0\n",
    "\n",
    "prediction = model.predict(X_test)\n",
    "\n",
    "i = 0\n",
    "for label in Y_test:\n",
    "    predict = np.argmax(prediction[i])\n",
    "    if label == predict:\n",
    "        correct += 1\n",
    "    else:\n",
    "        incorrect +=1\n",
    "        print(CATEGORIES[label], CATEGORIES[np.argmax(prediction[i])])\n",
    "    i+=1"
   ]
  },
  {
   "cell_type": "code",
   "execution_count": 9,
   "metadata": {},
   "outputs": [
    {
     "name": "stdout",
     "output_type": "stream",
     "text": [
      "258\n",
      "25\n",
      "0.911660777385159\n"
     ]
    }
   ],
   "source": [
    "print(correct)\n",
    "print(incorrect)\n",
    "print(correct/(correct+incorrect))"
   ]
  },
  {
   "cell_type": "code",
   "execution_count": null,
   "metadata": {},
   "outputs": [],
   "source": []
  }
 ],
 "metadata": {
  "kernelspec": {
   "display_name": "Python 3.6 (tensorflow)",
   "language": "python",
   "name": "tensorflow"
  },
  "language_info": {
   "codemirror_mode": {
    "name": "ipython",
    "version": 3
   },
   "file_extension": ".py",
   "mimetype": "text/x-python",
   "name": "python",
   "nbconvert_exporter": "python",
   "pygments_lexer": "ipython3",
   "version": "3.6.8"
  }
 },
 "nbformat": 4,
 "nbformat_minor": 2
}
