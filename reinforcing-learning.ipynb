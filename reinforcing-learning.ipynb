{
 "cells": [
  {
   "cell_type": "code",
   "execution_count": 1,
   "metadata": {},
   "outputs": [],
   "source": [
    "import os\n",
    "import cv2\n",
    "import tensorflow as tf\n",
    "import numpy as np\n",
    "\n",
    "CATEGORIES = [\"a\",\"b\",\"c\",\"d\",\"e\",\"f\",\"g\",\"h\",\"i\",\"j\",\"k\",\"l\",\"m\",\"n\",\"o\",\"p\",\"q\",\"r\",\"s\",\"t\",\"u\",\"v\",\"w\",\"x\",\"y\",\"z\"]\n",
    "\n",
    "pathDataset = \"C:/Users/user/Documents/Code/Machine-Learning/my_training_dataset\"\n",
    "path = \"C:/Users/user/Documents/Code/Machine-Learning/imgToCharacters\"\n",
    "pathBuffer = \"C:/Users/user/Documents/Code/Machine-Learning/bufferImg\"\n",
    "\n",
    "model = tf.keras.models.load_model(\"readable-model.model\")"
   ]
  },
  {
   "cell_type": "code",
   "execution_count": 2,
   "metadata": {},
   "outputs": [
    {
     "name": "stdout",
     "output_type": "stream",
     "text": [
      "5\n"
     ]
    }
   ],
   "source": [
    "list_x  = []\n",
    "list_img = []\n",
    "\n",
    "IMSIZE = 50\n",
    "\n",
    "for img in os.listdir(path):\n",
    "    img_array = cv2.imread(os.path.join(path,img), cv2.IMREAD_GRAYSCALE)\n",
    "    ret, thresh = cv2.threshold(img_array, 127, 255, 0)\n",
    "    image, contours, hierarchy = cv2.findContours(thresh, cv2.RETR_TREE,cv2.CHAIN_APPROX_SIMPLE)\n",
    "        \n",
    "    for i in range(len(contours)):\n",
    "\n",
    "        cnt = contours[i]\n",
    "        x,y,w,h = cv2.boundingRect(cnt)\n",
    "        if w*h > 30*40 and w*h < 200*200:\n",
    "            img_crop = thresh[y:y+h,x:x+w]\n",
    "            new_img = cv2.resize(img_crop, (IMSIZE, IMSIZE))\n",
    "            list_img.append(new_img)\n",
    "            list_x.append(x)\n",
    "            cv2.imwrite(os.path.join(pathBuffer,\"img%s.png\" %i),img_crop)          \n",
    "\n",
    "    \n",
    "list_img = np.array(list_img).reshape(-1, 50, 50, 1)\n",
    "\n",
    "print(len(list_img))"
   ]
  },
  {
   "cell_type": "code",
   "execution_count": 3,
   "metadata": {
    "scrolled": false
   },
   "outputs": [],
   "source": [
    "import pickle\n",
    "img_array = pickle.load(open(\"characters_img.pickle\", \"rb\"))\n",
    "x_img = pickle.load(open(\"characters_x.pickle\",\"rb\"))\n",
    "\n",
    "list_img = list_img / 255.0\n",
    "\n",
    "prediction = model.predict(list_img)"
   ]
  },
  {
   "cell_type": "code",
   "execution_count": 4,
   "metadata": {
    "scrolled": true
   },
   "outputs": [
    {
     "name": "stdout",
     "output_type": "stream",
     "text": [
      "[[446, 'u'], [232, 'a'], [108, 's'], [383, 'l'], [517, 'k']]\n"
     ]
    }
   ],
   "source": [
    "array_x_char = []\n",
    "for i in range(len(x_img)):\n",
    "    array = [list_x[i], CATEGORIES[np.argmax(prediction[i])]]\n",
    "    array_x_char.append(array)\n",
    "\n",
    "print(array_x_char)    \n",
    "array_x_char.sort(key=lambda x:x[0])"
   ]
  },
  {
   "cell_type": "code",
   "execution_count": 5,
   "metadata": {
    "scrolled": true
   },
   "outputs": [
    {
     "name": "stdout",
     "output_type": "stream",
     "text": [
      "['s', 'a', 'l', 'u', 'k']\n"
     ]
    }
   ],
   "source": [
    "text = []\n",
    "for x, char in array_x_char:\n",
    "    text.append(char)\n",
    "    \n",
    "print(text)"
   ]
  },
  {
   "cell_type": "code",
   "execution_count": 6,
   "metadata": {},
   "outputs": [],
   "source": [
    "real_text = [\"s\",\"a\",\"l\",\"u\",\"t\"]"
   ]
  },
  {
   "cell_type": "code",
   "execution_count": 7,
   "metadata": {},
   "outputs": [],
   "source": [
    "miss = []\n",
    "\n",
    "for i in range(len(text)):\n",
    "    if text[i] != real_text[i]:\n",
    "        var = array_x_char[i][0]\n",
    "        for x in range(len(list_x)):\n",
    "            if var == list_x[x]:\n",
    "                miss.append( [list_img[x] * 255.0, real_text[i] ] )"
   ]
  },
  {
   "cell_type": "code",
   "execution_count": 8,
   "metadata": {},
   "outputs": [],
   "source": [
    "from random import random, seed\n",
    "from datetime import datetime\n",
    "\n",
    "seed(datetime.now())\n",
    "\n",
    "for img, cat in miss:\n",
    "    t = random()\n",
    "    pathCat = os.path.join(pathDataset, cat)\n",
    "    cv2.imwrite(os.path.join(pathCat,\"img%s.png\"%t, ), img)"
   ]
  },
  {
   "cell_type": "code",
   "execution_count": null,
   "metadata": {},
   "outputs": [],
   "source": []
  }
 ],
 "metadata": {
  "kernelspec": {
   "display_name": "Python 3.6 (tensorflow)",
   "language": "python",
   "name": "tensorflow"
  },
  "language_info": {
   "codemirror_mode": {
    "name": "ipython",
    "version": 3
   },
   "file_extension": ".py",
   "mimetype": "text/x-python",
   "name": "python",
   "nbconvert_exporter": "python",
   "pygments_lexer": "ipython3",
   "version": "3.6.8"
  }
 },
 "nbformat": 4,
 "nbformat_minor": 2
}
