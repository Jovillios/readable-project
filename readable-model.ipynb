{
 "cells": [
  {
   "cell_type": "markdown",
   "metadata": {},
   "source": [
    "# Modèle Readable"
   ]
  },
  {
   "cell_type": "markdown",
   "metadata": {},
   "source": [
    "Importer les couches Dense, Conv2D, MaxPooling2D"
   ]
  },
  {
   "cell_type": "code",
   "execution_count": 52,
   "metadata": {},
   "outputs": [],
   "source": [
    "import tensorflow as tf\n",
    "from tensorflow.keras.layers import Dense, Conv2D, MaxPooling2D, Dropout, Activation, Flatten\n",
    "from tensorflow.keras.models import Sequential\n",
    "from tensorflow.keras.activations import relu, softmax"
   ]
  },
  {
   "cell_type": "code",
   "execution_count": 53,
   "metadata": {},
   "outputs": [],
   "source": [
    "import pickle\n",
    "import matplotlib.pyplot as plt\n",
    "\n",
    "X = pickle.load(open(\"X.pickle\",\"rb\"))\n",
    "Y = pickle.load(open(\"Y.pickle\",\"rb\"))\n",
    "\n",
    "X = X/255.0"
   ]
  },
  {
   "cell_type": "markdown",
   "metadata": {},
   "source": [
    "Créer le modèle avec les différentes couches"
   ]
  },
  {
   "cell_type": "code",
   "execution_count": 62,
   "metadata": {},
   "outputs": [],
   "source": [
    "model = Sequential()\n",
    "\n",
    "model.add(Conv2D(filters=128, kernel_size=(4,4), input_shape=X.shape[1:], activation=relu))\n",
    "model.add(MaxPooling2D(pool_size=(4,4)))\n",
    "\n",
    "model.add(Conv2D(filters=128, kernel_size=(4,4), activation=relu))\n",
    "model.add(MaxPooling2D(pool_size=((4,4))))\n",
    "\n",
    "model.add(Flatten())\n",
    "\n",
    "model.add(Dense(256, activation=relu))\n",
    "model.add(Dense(256, activation=relu))\n",
    "model.add(Dense(256, activation=relu))\n",
    "\n",
    "model.add(Dropout(0.5))\n",
    "model.add(Dense(26, activation=softmax))\n",
    "\n",
    "\n",
    "model.compile(loss=\"sparse_categorical_crossentropy\",\n",
    "                optimizer=\"adam\",\n",
    "                 metrics=[\"accuracy\"])"
   ]
  },
  {
   "cell_type": "markdown",
   "metadata": {},
   "source": [
    "Entrainer le modèle"
   ]
  },
  {
   "cell_type": "code",
   "execution_count": 65,
   "metadata": {},
   "outputs": [
    {
     "name": "stdout",
     "output_type": "stream",
     "text": [
      "Train on 507 samples, validate on 57 samples\n",
      "Epoch 1/12\n",
      "507/507 [==============================] - 5s 11ms/step - loss: 0.2793 - acc: 0.9211 - val_loss: 0.5685 - val_acc: 0.8246\n",
      "Epoch 2/12\n",
      "507/507 [==============================] - 5s 10ms/step - loss: 0.2731 - acc: 0.9191 - val_loss: 0.4907 - val_acc: 0.8246\n",
      "Epoch 3/12\n",
      "507/507 [==============================] - 5s 10ms/step - loss: 0.1718 - acc: 0.9566 - val_loss: 0.4574 - val_acc: 0.8772\n",
      "Epoch 4/12\n",
      "507/507 [==============================] - 5s 10ms/step - loss: 0.1512 - acc: 0.9467 - val_loss: 0.4837 - val_acc: 0.8772\n",
      "Epoch 5/12\n",
      "507/507 [==============================] - 5s 10ms/step - loss: 0.0924 - acc: 0.9763 - val_loss: 0.4161 - val_acc: 0.8421\n",
      "Epoch 6/12\n",
      "507/507 [==============================] - 5s 10ms/step - loss: 0.0794 - acc: 0.9763 - val_loss: 0.3981 - val_acc: 0.8947\n",
      "Epoch 7/12\n",
      "507/507 [==============================] - 5s 10ms/step - loss: 0.0976 - acc: 0.9665 - val_loss: 0.5933 - val_acc: 0.8070\n",
      "Epoch 8/12\n",
      "507/507 [==============================] - 5s 10ms/step - loss: 0.1191 - acc: 0.9625 - val_loss: 0.4389 - val_acc: 0.8772\n",
      "Epoch 9/12\n",
      "507/507 [==============================] - 5s 10ms/step - loss: 0.0487 - acc: 0.9882 - val_loss: 0.4760 - val_acc: 0.8772\n",
      "Epoch 10/12\n",
      "507/507 [==============================] - 5s 10ms/step - loss: 0.0441 - acc: 0.9842 - val_loss: 0.4478 - val_acc: 0.8772\n",
      "Epoch 11/12\n",
      "507/507 [==============================] - 5s 11ms/step - loss: 0.0615 - acc: 0.9783 - val_loss: 0.5859 - val_acc: 0.8596\n",
      "Epoch 12/12\n",
      "507/507 [==============================] - 5s 10ms/step - loss: 0.0300 - acc: 0.9921 - val_loss: 0.6668 - val_acc: 0.8596\n"
     ]
    },
    {
     "data": {
      "text/plain": [
       "<tensorflow.python.keras.callbacks.History at 0x240db2e5d68>"
      ]
     },
     "execution_count": 65,
     "metadata": {},
     "output_type": "execute_result"
    }
   ],
   "source": [
    "model.fit(X, Y, batch_size=32, epochs=12, validation_split = 0.1)"
   ]
  },
  {
   "cell_type": "code",
   "execution_count": 66,
   "metadata": {},
   "outputs": [],
   "source": [
    "model.save(\"readable-model.model\")"
   ]
  },
  {
   "cell_type": "code",
   "execution_count": null,
   "metadata": {},
   "outputs": [],
   "source": []
  }
 ],
 "metadata": {
  "kernelspec": {
   "display_name": "Python 3.6 (tensorflow)",
   "language": "python",
   "name": "tensorflow"
  },
  "language_info": {
   "codemirror_mode": {
    "name": "ipython",
    "version": 3
   },
   "file_extension": ".py",
   "mimetype": "text/x-python",
   "name": "python",
   "nbconvert_exporter": "python",
   "pygments_lexer": "ipython3",
   "version": "3.6.8"
  }
 },
 "nbformat": 4,
 "nbformat_minor": 2
}
